{
 "cells": [
  {
   "cell_type": "markdown",
   "id": "987001c9",
   "metadata": {},
   "source": [
    "# **Tic-Tac-Toe Game**"
   ]
  },
  {
   "cell_type": "markdown",
   "id": "ab07cb22",
   "metadata": {},
   "source": [
    "*Tic-tac-toe (or noughts and crosses) is a simple strategy game in which two players take turns placing a mark on a 3x3 board, attempting to make a row, column, or diagonal of three with their mark. In this Project, we will use the tools to create a tic-tac-toe simulator and evaluate basic winning strategies.*\n",
    "\n",
    "*In this Project, we will learn to create a tic-tac-toe board, place markers on the board, evaluate if either player has won, and use this to simulate two basic strategies.*"
   ]
  },
  {
   "cell_type": "markdown",
   "id": "b86e9a2e",
   "metadata": {},
   "source": [
    "Players 1 and 2 will take turns changing values of this array from a 0 to a 1 or 2, indicating the number of the player who places a marker there.\n",
    "Create a function place(board, player, position), where:\n",
    "\n",
    "- player is the current player (an integer 1 or 2).\n",
    "\n",
    "- position is a tuple of length 2 specifying a desired location to place their marker."
   ]
  },
  {
   "cell_type": "code",
   "execution_count": 2,
   "id": "723aacb7",
   "metadata": {},
   "outputs": [
    {
     "data": {
      "text/plain": [
       "array([[1, 0, 0],\n",
       "       [0, 0, 0],\n",
       "       [0, 0, 0]])"
      ]
     },
     "execution_count": 2,
     "metadata": {},
     "output_type": "execute_result"
    }
   ],
   "source": [
    "import numpy as np\n",
    "\n",
    "def create_board():\n",
    "    board = np.zeros((3,3), dtype=int)\n",
    "    return board\n",
    "def place(board, player, position):\n",
    "    if board[position] == 0:\n",
    "        board[position] = player\n",
    "        return board\n",
    "\n",
    "board = create_board()\n",
    "place(board, 1, (0, 0))        \n",
    "    "
   ]
  },
  {
   "cell_type": "markdown",
   "id": "f5bea486",
   "metadata": {},
   "source": [
    "Write a function random_place(board, player) that places a marker for the current player at random among all the available positions (those currently set to 0).\n",
    "Find possible placements with possibilities(board).\n",
    "Select one possible placement at random using random.choice(selection)."
   ]
  },
  {
   "cell_type": "code",
   "execution_count": 3,
   "id": "4fe5f552",
   "metadata": {},
   "outputs": [
    {
     "data": {
      "text/plain": [
       "array([[1, 0, 0],\n",
       "       [2, 0, 0],\n",
       "       [0, 0, 0]])"
      ]
     },
     "execution_count": 3,
     "metadata": {},
     "output_type": "execute_result"
    }
   ],
   "source": [
    "def possibilities(board):\n",
    "    not_occupied = np.where(board == 0)\n",
    "    return list(zip(not_occupied[0], not_occupied[1]))\n",
    "\n",
    "import random\n",
    "random.seed(1)\n",
    "\n",
    "def random_place(board, player):\n",
    "    selections = possibilities(board)\n",
    "    if len(selections) > 0:\n",
    "        selection = random.choice(selections)\n",
    "        place(board, player, selection)\n",
    "    return board\n",
    "\n",
    "random_place(board, 2)"
   ]
  },
  {
   "cell_type": "markdown",
   "id": "e5c9109e",
   "metadata": {},
   "source": [
    "We will now have both players place three markers each.\n",
    "A new board is given by the sample code. Call random_place(board, player) to place three pieces each on board for players 1 and 2.\n",
    "Print board to see your result."
   ]
  },
  {
   "cell_type": "code",
   "execution_count": 4,
   "id": "491547d9",
   "metadata": {},
   "outputs": [
    {
     "name": "stdout",
     "output_type": "stream",
     "text": [
      "[[2 2 1]\n",
      " [0 1 0]\n",
      " [0 1 2]]\n"
     ]
    }
   ],
   "source": [
    "random.seed(1)\n",
    "board = create_board()\n",
    "\n",
    "for i in range(3):\n",
    "    for player in [1, 2]:\n",
    "        random_place(board, player)\n",
    "\n",
    "print(board)"
   ]
  },
  {
   "cell_type": "markdown",
   "id": "594a99c7",
   "metadata": {},
   "source": [
    "Make a function row_win(board, player) that takes the player (integer) and determines if any row consists of only their marker.\n",
    "\n",
    "Have it return True if this condition is met and False otherwise.\n",
    "\n",
    "Note that board is already defined. Call row_win to check if Player 1 has a complete row."
   ]
  },
  {
   "cell_type": "code",
   "execution_count": 5,
   "id": "8e66fa5c",
   "metadata": {},
   "outputs": [
    {
     "data": {
      "text/plain": [
       "False"
      ]
     },
     "execution_count": 5,
     "metadata": {},
     "output_type": "execute_result"
    }
   ],
   "source": [
    "def row_win(board, player):\n",
    "    if np.any(np.all(board==player, axis=1)): # this checks if any row contains all positions equal to player.\n",
    "        return True\n",
    "    else:\n",
    "        return False\n",
    "\n",
    "row_win(board, 1)"
   ]
  },
  {
   "cell_type": "markdown",
   "id": "0b463039",
   "metadata": {},
   "source": [
    "Make a function col_win(board, player) that takes the player (integer) and determines if any column consists of only their marker.\n",
    "\n",
    "Have it return True if this condition is met and False otherwise.\n",
    "\n",
    "Note that board is already defined as in Exercise 5. Call col_win to check if Player 1 has a complete column"
   ]
  },
  {
   "cell_type": "code",
   "execution_count": 6,
   "id": "e41e14f5",
   "metadata": {},
   "outputs": [
    {
     "data": {
      "text/plain": [
       "False"
      ]
     },
     "execution_count": 6,
     "metadata": {},
     "output_type": "execute_result"
    }
   ],
   "source": [
    "def col_win(board, player):\n",
    "    if np.any(np.all(board==player, axis=0)): # this checks if any column contains all positions equal to player\n",
    "        return True\n",
    "    else:\n",
    "        return False\n",
    "\n",
    "col_win(board, 1)"
   ]
  },
  {
   "cell_type": "markdown",
   "id": "1dc05057",
   "metadata": {},
   "source": [
    "Finally, create a function diag_win(board, player) that takes the player (integer) and determines if any diagonal consists of only their marker.\n",
    "\n",
    "Have it return True if this condition is met and False otherwise.\n",
    "Note that board is modified. Call diag_win to check if Player 2 has a complete diagonal."
   ]
  },
  {
   "cell_type": "code",
   "execution_count": 8,
   "id": "c649780a",
   "metadata": {},
   "outputs": [
    {
     "data": {
      "text/plain": [
       "True"
      ]
     },
     "execution_count": 8,
     "metadata": {},
     "output_type": "execute_result"
    }
   ],
   "source": [
    "board[1,1] = 2\n",
    "def diag_win(board, player):\n",
    "    if np.all(np.diag(board)==player) or np.all(np.diag(np.fliplr(board))==player):\n",
    "        # np.diag returns the diagonal of the array\n",
    "        # np.fliplr rearranges columns in reverse order\n",
    "        return True\n",
    "    else:\n",
    "        return False\n",
    "\n",
    "diag_win(board, 2)"
   ]
  },
  {
   "cell_type": "markdown",
   "id": "14342228",
   "metadata": {},
   "source": [
    "Create a function evaluate(board) that uses row_win, col_win, and diag_win functions for both players. If one of them has won, return that player's number. If the board is full but no one has won, return -1. Otherwise, return 0.\n",
    "\n",
    "Call evaluate to see if either player has won the game yet."
   ]
  },
  {
   "cell_type": "code",
   "execution_count": 9,
   "id": "ef607510",
   "metadata": {},
   "outputs": [
    {
     "data": {
      "text/plain": [
       "2"
      ]
     },
     "execution_count": 9,
     "metadata": {},
     "output_type": "execute_result"
    }
   ],
   "source": [
    "def evaluate(board):\n",
    "    winner = 0\n",
    "    for player in [1, 2]:\n",
    "        if row_win(board, player) or col_win(board, player) or diag_win(board, player):\n",
    "            winner = player\n",
    "    if np.all(board != 0) and winner == 0:\n",
    "        winner = -1\n",
    "    return winner\n",
    "\n",
    "evaluate(board)"
   ]
  },
  {
   "cell_type": "markdown",
   "id": "a580d0d5",
   "metadata": {},
   "source": [
    "Create a function play_game() that:\n",
    "\n",
    "- Creates a board.\n",
    "\n",
    "- Alternates taking turns between two players (beginning with Player 1), placing a marker during each turn.\n",
    "\n",
    "- Evaluates the board for a winner after each placement.\n",
    "\n",
    "- Continues the game until one player wins (returning 1 or 2 to reflect the winning player), or the game is a draw (returning -1).\n",
    "\n",
    "Call play_game 1000 times, and store the results of the game in a list called results. Use random.seed(1) so we can check our answer!\n",
    "How many times does Player 1 win out of 1000 games?"
   ]
  },
  {
   "cell_type": "code",
   "execution_count": 10,
   "id": "2a3ee0d6",
   "metadata": {},
   "outputs": [
    {
     "data": {
      "text/plain": [
       "591"
      ]
     },
     "execution_count": 10,
     "metadata": {},
     "output_type": "execute_result"
    }
   ],
   "source": [
    "random.seed(1)\n",
    "\n",
    "def play_game():\n",
    "    board = create_board()\n",
    "    winner = 0\n",
    "    while winner == 0:\n",
    "        for player in [1, 2]:\n",
    "            random_place(board, player)\n",
    "            winner = evaluate(board)\n",
    "            if winner != 0:\n",
    "                break\n",
    "    return winner\n",
    "\n",
    "results = [play_game() for i in range(1000)]\n",
    "results.count(1)"
   ]
  },
  {
   "cell_type": "markdown",
   "id": "4969a7bf",
   "metadata": {},
   "source": [
    "Create a function play_strategic_game(), where Player 1 always starts with the middle square, and otherwise both players place their markers randomly.\n",
    "\n",
    "Call play_strategic_game 1000 times.\n",
    "Set the seed to 1 using random.seed(1) again.\n",
    "Lets print how many times does Player 1 win out of 1000 games with this new strategy?"
   ]
  },
  {
   "cell_type": "code",
   "execution_count": 11,
   "id": "3908743c",
   "metadata": {},
   "outputs": [
    {
     "data": {
      "text/plain": [
       "716"
      ]
     },
     "execution_count": 11,
     "metadata": {},
     "output_type": "execute_result"
    }
   ],
   "source": [
    "random.seed(1)\n",
    "\n",
    "def play_strategic_game():\n",
    "    board, winner = create_board(), 0\n",
    "    board[1,1] = 1\n",
    "    while winner == 0:\n",
    "        for player in [2,1]:\n",
    "            random_place(board, player)\n",
    "            winner = evaluate(board)\n",
    "            if winner != 0:\n",
    "                break\n",
    "    return winner\n",
    "\n",
    "results = [play_strategic_game() for i in range(1000)]\n",
    "results.count(1)"
   ]
  },
  {
   "cell_type": "code",
   "execution_count": null,
   "id": "48d9148b",
   "metadata": {},
   "outputs": [],
   "source": []
  }
 ],
 "metadata": {
  "kernelspec": {
   "display_name": "Python 3",
   "language": "python",
   "name": "python3"
  },
  "language_info": {
   "codemirror_mode": {
    "name": "ipython",
    "version": 3
   },
   "file_extension": ".py",
   "mimetype": "text/x-python",
   "name": "python",
   "nbconvert_exporter": "python",
   "pygments_lexer": "ipython3",
   "version": "3.8.10"
  }
 },
 "nbformat": 4,
 "nbformat_minor": 5
}
